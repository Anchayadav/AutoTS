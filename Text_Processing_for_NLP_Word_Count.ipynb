{
  "nbformat": 4,
  "nbformat_minor": 0,
  "metadata": {
    "colab": {
      "provenance": [],
      "authorship_tag": "ABX9TyMNX7lhNqzl+zsHGZjVvawK",
      "include_colab_link": true
    },
    "kernelspec": {
      "name": "python3",
      "display_name": "Python 3"
    },
    "language_info": {
      "name": "python"
    }
  },
  "cells": [
    {
      "cell_type": "markdown",
      "metadata": {
        "id": "view-in-github",
        "colab_type": "text"
      },
      "source": [
        "<a href=\"https://colab.research.google.com/github/Anchayadav/AutoTS/blob/main/Text_Processing_for_NLP_Word_Count.ipynb\" target=\"_parent\"><img src=\"https://colab.research.google.com/assets/colab-badge.svg\" alt=\"Open In Colab\"/></a>"
      ]
    },
    {
      "cell_type": "code",
      "execution_count": null,
      "metadata": {
        "id": "NX6QRP4ueS2p"
      },
      "outputs": [],
      "source": [
        "text=\"this is a sample text. it contains some word. text is used for word count example \""
      ]
    },
    {
      "cell_type": "code",
      "source": [
        "print(\"tokenize\")\n",
        "words=text.split()\n",
        "print(\"tokenizd word\",words)"
      ],
      "metadata": {
        "colab": {
          "base_uri": "https://localhost:8080/"
        },
        "id": "6f3r-e1cefej",
        "outputId": "159f6bd5-09e2-47d2-be44-930872706fc4"
      },
      "execution_count": null,
      "outputs": [
        {
          "output_type": "stream",
          "name": "stdout",
          "text": [
            "tokenize\n",
            "tokenizd word ['this', 'is', 'a', 'sample', 'text.', 'it', 'contains', 'some', 'word.', 'text', 'is', 'used', 'for', 'word', 'count', 'example']\n"
          ]
        }
      ]
    },
    {
      "cell_type": "code",
      "source": [
        "print(\"Count the words\")\n",
        "word_count =len(words)\n",
        "print(\"words count\",word_count)"
      ],
      "metadata": {
        "colab": {
          "base_uri": "https://localhost:8080/"
        },
        "id": "oi_Nk_rKefgm",
        "outputId": "04f3426f-05e6-403e-ccb5-9719bee2b84c"
      },
      "execution_count": null,
      "outputs": [
        {
          "output_type": "stream",
          "name": "stdout",
          "text": [
            "Count the words\n",
            "words count 16\n"
          ]
        }
      ]
    },
    {
      "cell_type": "code",
      "source": [
        "print(\"Counting unique word\")\n",
        "unique_word=set(words)\n",
        "unique_word_count = len(unique_word)\n",
        "print(\"unique word\",unique_word_count)"
      ],
      "metadata": {
        "colab": {
          "base_uri": "https://localhost:8080/"
        },
        "id": "eVOb2Abhefis",
        "outputId": "f44ae112-9f45-4195-8d67-4cdc2f067a49"
      },
      "execution_count": null,
      "outputs": [
        {
          "output_type": "stream",
          "name": "stdout",
          "text": [
            "Counting unique word\n",
            "unique word 15\n"
          ]
        }
      ]
    },
    {
      "cell_type": "code",
      "source": [],
      "metadata": {
        "id": "qYKISlbFefmM"
      },
      "execution_count": null,
      "outputs": []
    }
  ]
}