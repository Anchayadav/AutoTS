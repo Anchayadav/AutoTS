{
  "nbformat": 4,
  "nbformat_minor": 0,
  "metadata": {
    "colab": {
      "provenance": [],
      "authorship_tag": "ABX9TyPDy/jx34B8t/nAZQSlI0fZ",
      "include_colab_link": true
    },
    "kernelspec": {
      "name": "python3",
      "display_name": "Python 3"
    },
    "language_info": {
      "name": "python"
    }
  },
  "cells": [
    {
      "cell_type": "markdown",
      "metadata": {
        "id": "view-in-github",
        "colab_type": "text"
      },
      "source": [
        "<a href=\"https://colab.research.google.com/github/Anchayadav/AutoTS/blob/main/Google_Play_Store_Sentimentt_Analysis.ipynb\" target=\"_parent\"><img src=\"https://colab.research.google.com/assets/colab-badge.svg\" alt=\"Open In Colab\"/></a>"
      ]
    },
    {
      "cell_type": "code",
      "execution_count": null,
      "metadata": {
        "colab": {
          "base_uri": "https://localhost:8080/"
        },
        "id": "qf6FDpYnxcvz",
        "outputId": "92c39c9c-e75a-4381-a425-8913af858ab4"
      },
      "outputs": [
        {
          "output_type": "stream",
          "name": "stdout",
          "text": [
            "                     App                                  Translated_Review  \\\n",
            "0  10 Best Foods for You  I like eat delicious food. That's I'm cooking ...   \n",
            "1  10 Best Foods for You    This help eating healthy exercise regular basis   \n",
            "2  10 Best Foods for You                                                NaN   \n",
            "3  10 Best Foods for You         Works great especially going grocery store   \n",
            "4  10 Best Foods for You                                       Best idea us   \n",
            "\n",
            "  Sentiment  Sentiment_Polarity  Sentiment_Subjectivity  \n",
            "0  Positive                1.00                0.533333  \n",
            "1  Positive                0.25                0.288462  \n",
            "2       NaN                 NaN                     NaN  \n",
            "3  Positive                0.40                0.875000  \n",
            "4  Positive                1.00                0.300000  \n"
          ]
        }
      ],
      "source": [
        "from itertools import count\n",
        "from nltk.util import pr\n",
        "import pandas as pd\n",
        "data=pd.read_csv(\"user_reviews.csv\")\n",
        "print(data.head())"
      ]
    },
    {
      "cell_type": "code",
      "source": [
        "print(data.isnull().sum())"
      ],
      "metadata": {
        "colab": {
          "base_uri": "https://localhost:8080/"
        },
        "id": "bHbnJDmIx6aP",
        "outputId": "c341ee89-8334-40d4-e4a1-67d204b210b5"
      },
      "execution_count": null,
      "outputs": [
        {
          "output_type": "stream",
          "name": "stdout",
          "text": [
            "App                          0\n",
            "Translated_Review         6210\n",
            "Sentiment                 6209\n",
            "Sentiment_Polarity        6209\n",
            "Sentiment_Subjectivity    6209\n",
            "dtype: int64\n"
          ]
        }
      ]
    },
    {
      "cell_type": "code",
      "source": [
        "data=data.dropna()\n",
        "print(data.isnull().sum())"
      ],
      "metadata": {
        "colab": {
          "base_uri": "https://localhost:8080/"
        },
        "id": "vlM0t8D0x6c-",
        "outputId": "8b90f479-a952-4109-e4d4-8f80c6c0f29f"
      },
      "execution_count": null,
      "outputs": [
        {
          "output_type": "stream",
          "name": "stdout",
          "text": [
            "App                       0\n",
            "Translated_Review         0\n",
            "Sentiment                 0\n",
            "Sentiment_Polarity        0\n",
            "Sentiment_Subjectivity    0\n",
            "dtype: int64\n"
          ]
        }
      ]
    },
    {
      "cell_type": "code",
      "source": [
        "import nltk\n",
        "nltk.download('vader_lexicon')\n",
        "\n",
        "from nltk.sentiment.vader import SentimentIntensityAnalyzer\n",
        "sentiment = SentimentIntensityAnalyzer()\n",
        "data['Positive']=[sentiment.polarity_scores(i)['pos'] for  i in data['Translated_Review']]\n",
        "data['Negative']=[sentiment.polarity_scores(i)['neg'] for  i in data['Translated_Review']]\n",
        "data['Neutral']=[sentiment.polarity_scores(i)['neu'] for  i in data['Translated_Review']]\n",
        "\n",
        "print(data.head())\n"
      ],
      "metadata": {
        "colab": {
          "base_uri": "https://localhost:8080/"
        },
        "id": "LmTatfyJx6gC",
        "outputId": "1373256f-afd9-41bb-9640-21db75b1af91"
      },
      "execution_count": null,
      "outputs": [
        {
          "output_type": "stream",
          "name": "stderr",
          "text": [
            "[nltk_data] Downloading package vader_lexicon to /root/nltk_data...\n"
          ]
        },
        {
          "output_type": "stream",
          "name": "stdout",
          "text": [
            "                     App                                  Translated_Review  \\\n",
            "0  10 Best Foods for You  I like eat delicious food. That's I'm cooking ...   \n",
            "1  10 Best Foods for You    This help eating healthy exercise regular basis   \n",
            "3  10 Best Foods for You         Works great especially going grocery store   \n",
            "4  10 Best Foods for You                                       Best idea us   \n",
            "5  10 Best Foods for You                                           Best way   \n",
            "\n",
            "  Sentiment  Sentiment_Polarity  Sentiment_Subjectivity  Positive  Negative  \\\n",
            "0  Positive                1.00                0.533333     0.534       0.0   \n",
            "1  Positive                0.25                0.288462     0.519       0.0   \n",
            "3  Positive                0.40                0.875000     0.451       0.0   \n",
            "4  Positive                1.00                0.300000     0.677       0.0   \n",
            "5  Positive                1.00                0.300000     0.808       0.0   \n",
            "\n",
            "   Neutral  \n",
            "0    0.466  \n",
            "1    0.481  \n",
            "3    0.549  \n",
            "4    0.323  \n",
            "5    0.192  \n"
          ]
        }
      ]
    },
    {
      "cell_type": "code",
      "source": [
        "import matplotlib.pyplot as plt\n",
        "import seaborn as sns\n",
        "plt.figure(figsize=(15,10))\n",
        "sns.scatterplot(data['Sentiment_Polarity'],data['Sentiment_Subjectivity'],\n",
        "                hue= data['Sentiment'], edgecolor='white',palette='twilight_shifted_r')\n",
        "plt.title(\"Google playa Store Review Sentiment Annaalyzer\", fontsize=20)\n",
        "plt.show()"
      ],
      "metadata": {
        "id": "25ANBxO6x6i-"
      },
      "execution_count": null,
      "outputs": []
    },
    {
      "cell_type": "code",
      "source": [],
      "metadata": {
        "id": "LytHfFdsx6le"
      },
      "execution_count": null,
      "outputs": []
    },
    {
      "cell_type": "code",
      "source": [],
      "metadata": {
        "id": "AedfEsCax6ot"
      },
      "execution_count": null,
      "outputs": []
    },
    {
      "cell_type": "code",
      "source": [],
      "metadata": {
        "id": "4PfaE-i-x6r3"
      },
      "execution_count": null,
      "outputs": []
    },
    {
      "cell_type": "code",
      "source": [],
      "metadata": {
        "id": "M81fr79px6uT"
      },
      "execution_count": null,
      "outputs": []
    },
    {
      "cell_type": "code",
      "source": [],
      "metadata": {
        "id": "QvM8C0mGx6xy"
      },
      "execution_count": null,
      "outputs": []
    }
  ]
}