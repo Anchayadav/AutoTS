{
  "nbformat": 4,
  "nbformat_minor": 0,
  "metadata": {
    "colab": {
      "provenance": [],
      "authorship_tag": "ABX9TyMGgvytGsTw+RyoC7v/PJf/",
      "include_colab_link": true
    },
    "kernelspec": {
      "name": "python3",
      "display_name": "Python 3"
    },
    "language_info": {
      "name": "python"
    }
  },
  "cells": [
    {
      "cell_type": "markdown",
      "metadata": {
        "id": "view-in-github",
        "colab_type": "text"
      },
      "source": [
        "<a href=\"https://colab.research.google.com/github/Anchayadav/AutoTS/blob/main/Area_and_Population_Data_Science_Projects.ipynb\" target=\"_parent\"><img src=\"https://colab.research.google.com/assets/colab-badge.svg\" alt=\"Open In Colab\"/></a>"
      ]
    },
    {
      "cell_type": "code",
      "execution_count": null,
      "metadata": {
        "id": "5RkieVQBbUxA"
      },
      "outputs": [],
      "source": [
        "import pandas as pd\n",
        "cities = pd.read_csv(\"california_cities.csv\")\n",
        "print(cities.head())"
      ]
    },
    {
      "cell_type": "code",
      "source": [
        "latitude,longitude = cities['latd'],cities['longd']\n",
        "population,area = cities['population_total'],cities['area_total_km2']"
      ],
      "metadata": {
        "id": "h_v89VxccLEj"
      },
      "execution_count": null,
      "outputs": []
    },
    {
      "cell_type": "code",
      "source": [
        "import numpy as np\n",
        "import matplotlib.pyplot as plt\n",
        "import seaborn\n",
        "seborn.set()\n",
        "plt.scatter(longtitude,latitude,label=None,c=np.log10(population),\n",
        "            cmap='viridis',s=area,linewidth=0,alpha=0.5)\n",
        "plt.axis(ascept='equal')\n",
        "plt.xlabel('longitude')\n",
        "plt.ylabel('longitude')\n",
        "plt.colorbar(label='log$_{10}$(population)')\n",
        "plt.clim(3,7)\n",
        "for area in [100,300,500]:\n",
        "  plt.scatter([],[],c='k',alpha=0.3,s=area,label=str(area)+ 'km$^2$')\n",
        "plt.legend(scatterpoints=1,frameon=False,labelspacing=1,title='City Area')\n",
        "plt.title(\"Area and Poplutaion of Claiforia Cities\")\n",
        "plt.show()"
      ],
      "metadata": {
        "id": "bGUieR5JcLH6"
      },
      "execution_count": null,
      "outputs": []
    },
    {
      "cell_type": "code",
      "source": [
        "\n"
      ],
      "metadata": {
        "id": "1JsLo3SWegcB"
      },
      "execution_count": null,
      "outputs": []
    }
  ]
}