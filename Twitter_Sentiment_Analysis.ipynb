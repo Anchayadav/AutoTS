{
  "nbformat": 4,
  "nbformat_minor": 0,
  "metadata": {
    "colab": {
      "provenance": [],
      "authorship_tag": "ABX9TyN2tCCyCp+ULDMHMojBIZYU",
      "include_colab_link": true
    },
    "kernelspec": {
      "name": "python3",
      "display_name": "Python 3"
    },
    "language_info": {
      "name": "python"
    }
  },
  "cells": [
    {
      "cell_type": "markdown",
      "metadata": {
        "id": "view-in-github",
        "colab_type": "text"
      },
      "source": [
        "<a href=\"https://colab.research.google.com/github/Anchayadav/AutoTS/blob/main/Twitter_Sentiment_Analysis.ipynb\" target=\"_parent\"><img src=\"https://colab.research.google.com/assets/colab-badge.svg\" alt=\"Open In Colab\"/></a>"
      ]
    },
    {
      "cell_type": "code",
      "execution_count": null,
      "metadata": {
        "id": "yjti6ec4iWA2",
        "colab": {
          "base_uri": "https://localhost:8080/"
        },
        "outputId": "f7ff1bba-2cd2-4189-baee-f24441b7aa3a"
      },
      "outputs": [
        {
          "output_type": "stream",
          "name": "stdout",
          "text": [
            "   Unnamed: 0  count  hate_speech  offensive_language  neither  class  \\\n",
            "0           0      3            0                   0        3      2   \n",
            "1           1      3            0                   3        0      1   \n",
            "2           2      3            0                   3        0      1   \n",
            "3           3      3            0                   2        1      1   \n",
            "4           4      6            0                   6        0      1   \n",
            "\n",
            "                                               tweet  \n",
            "0  !!! RT @mayasolovely: As a woman you shouldn't...  \n",
            "1  !!!!! RT @mleew17: boy dats cold...tyga dwn ba...  \n",
            "2  !!!!!!! RT @UrKindOfBrand Dawg!!!! RT @80sbaby...  \n",
            "3  !!!!!!!!! RT @C_G_Anderson: @viva_based she lo...  \n",
            "4  !!!!!!!!!!!!! RT @ShenikaRoberts: The shit you...  \n"
          ]
        },
        {
          "output_type": "stream",
          "name": "stderr",
          "text": [
            "[nltk_data] Downloading package stopwords to /root/nltk_data...\n",
            "[nltk_data]   Package stopwords is already up-to-date!\n"
          ]
        }
      ],
      "source": [
        "import pandas as pd\n",
        "import numpy as np\n",
        "from sklearn.feature_extraction.text import CountVectorizer\n",
        "from sklearn.model_selection import train_test_split\n",
        "from sklearn.tree import DecisionTreeClassifier\n",
        "import re\n",
        "import string\n",
        "import nltk\n",
        "nltk.download('stopwords')\n",
        "data=pd.read_csv('twitter.csv')\n",
        "print(data.head())"
      ]
    },
    {
      "cell_type": "code",
      "source": [],
      "metadata": {
        "id": "ZXEdcjOHI9FS"
      },
      "execution_count": null,
      "outputs": []
    },
    {
      "cell_type": "code",
      "source": [
        "\n",
        "from nltk.corpus import stopwords\n",
        "stopword =set(stopwords.words('english'))\n",
        "stemmer =nltk.SnowballStemmer('english')\n",
        "import string\n",
        "import re\n",
        "def clean(text):\n",
        "  text =str(text).lower()\n",
        "  text =re.sub('\\[.*+?\\]','',text)\n",
        "  text=re.sub('https://\\S+|www\\.\\S+','',text)\n",
        "  text =re.sub('<.*?>+','',text)\n",
        "  text =re.sub('[%S]' % re.escape(string.puchuation),'',text)\n",
        "  text =re.sub('\\n','',text)\n",
        "  text=re.sub('\\w*\\d\\w*','',text)\n",
        "  text =[word for word in text.split() if word not in stopword]\n",
        "  text=''.join(text)\n",
        "  text =[stemmer.stem(word) for word in text.split('')]\n",
        "  text =' '.join(text)\n",
        "  return text\n",
        "  data['tweet']=data['tweet'].append(clean)"
      ],
      "metadata": {
        "id": "xM1LE9JYId-P"
      },
      "execution_count": null,
      "outputs": []
    },
    {
      "cell_type": "code",
      "source": [
        "from nltk.sentiment.vader import SentimentIntensityAnalyzer\n",
        "nltk.download('vader_lexicon')\n",
        "sentiment =SentimentIntensityAnalyzer()\n",
        "data['Positive'] =[sentiment.polarity_scores(i)['pos']for i in data['tweet']]\n",
        "data['Negative'] =[sentiment.polarity_scores(i)['neg']for i in data['tweet']]\n",
        "data['Neutral'] =[sentiment.polarity_scores(i)['neu']for i in data['tweet']]\n",
        "data= data[['tweet','Positive','Negative','Neutral']]\n",
        "print(data.head())"
      ],
      "metadata": {
        "colab": {
          "base_uri": "https://localhost:8080/"
        },
        "id": "PQJW4IlrJbtL",
        "outputId": "500cf2e1-cfd3-447e-9c3e-1491a893a6f5"
      },
      "execution_count": null,
      "outputs": [
        {
          "output_type": "stream",
          "name": "stderr",
          "text": [
            "[nltk_data] Downloading package vader_lexicon to /root/nltk_data...\n",
            "[nltk_data]   Package vader_lexicon is already up-to-date!\n"
          ]
        },
        {
          "output_type": "stream",
          "name": "stdout",
          "text": [
            "                                               tweet  Positive  Negative  \\\n",
            "0  !!! RT @mayasolovely: As a woman you shouldn't...     0.120     0.000   \n",
            "1  !!!!! RT @mleew17: boy dats cold...tyga dwn ba...     0.000     0.237   \n",
            "2  !!!!!!! RT @UrKindOfBrand Dawg!!!! RT @80sbaby...     0.000     0.538   \n",
            "3  !!!!!!!!! RT @C_G_Anderson: @viva_based she lo...     0.344     0.000   \n",
            "4  !!!!!!!!!!!!! RT @ShenikaRoberts: The shit you...     0.081     0.249   \n",
            "\n",
            "   Neutral  \n",
            "0    0.880  \n",
            "1    0.763  \n",
            "2    0.462  \n",
            "3    0.656  \n",
            "4    0.669  \n"
          ]
        }
      ]
    },
    {
      "cell_type": "code",
      "source": [
        "x=sum(data['Positive'])\n",
        "y=sum(data['Negative'])\n",
        "z=sum(data['Neutral'])\n",
        "\n",
        "def sentiment(x,y,z):\n",
        "  if (x>y) and (x>z):\n",
        "    print('Positive')\n",
        "  elif (y>x) and (y>z):\n",
        "    print('Negative')\n",
        "  else:\n",
        "    print('Neutral')\n",
        "sentiment(x,y,z)"
      ],
      "metadata": {
        "colab": {
          "base_uri": "https://localhost:8080/"
        },
        "id": "QXOaHQo3NN8N",
        "outputId": "d6bc1383-9ef5-4e94-ac04-1915d6e6f46c"
      },
      "execution_count": null,
      "outputs": [
        {
          "output_type": "stream",
          "name": "stdout",
          "text": [
            "Neutral\n"
          ]
        }
      ]
    },
    {
      "cell_type": "code",
      "source": [],
      "metadata": {
        "id": "W7ao2oXnIeMA"
      },
      "execution_count": null,
      "outputs": []
    }
  ]
}