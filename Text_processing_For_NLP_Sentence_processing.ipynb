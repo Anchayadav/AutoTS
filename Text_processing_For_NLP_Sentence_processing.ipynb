{
  "nbformat": 4,
  "nbformat_minor": 0,
  "metadata": {
    "colab": {
      "provenance": [],
      "authorship_tag": "ABX9TyMhpazEvzlkbfItOWnu39H5",
      "include_colab_link": true
    },
    "kernelspec": {
      "name": "python3",
      "display_name": "Python 3"
    },
    "language_info": {
      "name": "python"
    }
  },
  "cells": [
    {
      "cell_type": "markdown",
      "metadata": {
        "id": "view-in-github",
        "colab_type": "text"
      },
      "source": [
        "<a href=\"https://colab.research.google.com/github/Anchayadav/AutoTS/blob/main/Text_processing_For_NLP_Sentence_processing.ipynb\" target=\"_parent\"><img src=\"https://colab.research.google.com/assets/colab-badge.svg\" alt=\"Open In Colab\"/></a>"
      ]
    },
    {
      "cell_type": "code",
      "execution_count": null,
      "metadata": {
        "id": "cso5ZX1EnxjR"
      },
      "outputs": [],
      "source": [
        "import nltk\n",
        "from nltk.tokenize import sent_tokenize\n"
      ]
    },
    {
      "cell_type": "code",
      "source": [
        "import nltk\n",
        "nltk.download('punkt')"
      ],
      "metadata": {
        "colab": {
          "base_uri": "https://localhost:8080/"
        },
        "id": "DjCOTSI4ow7b",
        "outputId": "43c1c700-99ba-4d98-b2d1-d29e504f5c59"
      },
      "execution_count": null,
      "outputs": [
        {
          "output_type": "stream",
          "name": "stderr",
          "text": [
            "[nltk_data] Downloading package punkt to /root/nltk_data...\n",
            "[nltk_data]   Package punkt is already up-to-date!\n"
          ]
        },
        {
          "output_type": "execute_result",
          "data": {
            "text/plain": [
              "True"
            ]
          },
          "metadata": {},
          "execution_count": 41
        }
      ]
    },
    {
      "cell_type": "code",
      "source": [
        "text= \"this is the first sentence. here comes the second sentence. Finally, the third sentenc.\""
      ],
      "metadata": {
        "id": "zXyBCT4coC29"
      },
      "execution_count": null,
      "outputs": []
    },
    {
      "cell_type": "code",
      "source": [
        "print(\"tokenize sentence\")\n",
        "words =sent_tokenize(text)\n",
        "print(\"tokenized sentence :\",words)"
      ],
      "metadata": {
        "colab": {
          "base_uri": "https://localhost:8080/"
        },
        "id": "2pUQODkAoC5Q",
        "outputId": "75365bd8-9e05-4e32-f44b-4acd445dfe8e"
      },
      "execution_count": null,
      "outputs": [
        {
          "output_type": "stream",
          "name": "stdout",
          "text": [
            "tokenize sentence\n",
            "tokenized sentence : ['this is the first sentence.', 'here comes the second sentence .', 'Finally the third sentenc.']\n"
          ]
        }
      ]
    },
    {
      "cell_type": "code",
      "source": [
        "print(\"count sentence\")\n",
        "num_sentence=len(words)\n",
        "print(\"number of sentence\",num_sentence)\n"
      ],
      "metadata": {
        "colab": {
          "base_uri": "https://localhost:8080/"
        },
        "id": "YgVpLkpToC7s",
        "outputId": "44052796-6ccb-406a-b0ad-d2f8308236b1"
      },
      "execution_count": null,
      "outputs": [
        {
          "output_type": "stream",
          "name": "stdout",
          "text": [
            "count sentence\n",
            "number of sentence 3\n"
          ]
        }
      ]
    },
    {
      "cell_type": "code",
      "source": [
        "print(\"find the longest sentence\")\n",
        "longest_sentence =max(words,key=len)\n",
        "print(\"longest sentence :\",longest_sentence)"
      ],
      "metadata": {
        "colab": {
          "base_uri": "https://localhost:8080/"
        },
        "id": "88OGZRjSoC-M",
        "outputId": "b8cd2269-44f4-45ad-af91-f8d66247fa4d"
      },
      "execution_count": null,
      "outputs": [
        {
          "output_type": "stream",
          "name": "stdout",
          "text": [
            "find the longest sentence\n",
            "longest sentence : here comes the second sentence .\n"
          ]
        }
      ]
    },
    {
      "cell_type": "code",
      "source": [
        "print(\"removing the punchuattion from sentence\")\n",
        "import string\n",
        "\n",
        "def remove_puchjuation(word):\n",
        "  translator=str.maketrans(\"\", \"\" , string.punctuation)\n",
        "  return word.translate(translator)\n",
        "\n",
        "  cleaned_sen=[remove_puchjuation(word) for word in words]\n",
        "  print(\"sentence without puchuatiom:\",cleaned_sen)"
      ],
      "metadata": {
        "colab": {
          "base_uri": "https://localhost:8080/"
        },
        "id": "-2kfNl9ToDDb",
        "outputId": "bbc31f0b-bc36-4c7d-fdfc-550a016f981a"
      },
      "execution_count": null,
      "outputs": [
        {
          "output_type": "stream",
          "name": "stdout",
          "text": [
            "removing the punchuattion from sentence\n"
          ]
        }
      ]
    }
  ]
}