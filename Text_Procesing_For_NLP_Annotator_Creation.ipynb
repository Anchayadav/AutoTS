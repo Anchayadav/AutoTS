{
  "nbformat": 4,
  "nbformat_minor": 0,
  "metadata": {
    "colab": {
      "provenance": [],
      "authorship_tag": "ABX9TyOH0e/hoqb2B+OH5QTWVsqx",
      "include_colab_link": true
    },
    "kernelspec": {
      "name": "python3",
      "display_name": "Python 3"
    },
    "language_info": {
      "name": "python"
    }
  },
  "cells": [
    {
      "cell_type": "markdown",
      "metadata": {
        "id": "view-in-github",
        "colab_type": "text"
      },
      "source": [
        "<a href=\"https://colab.research.google.com/github/Anchayadav/AutoTS/blob/main/Text_Procesing_For_NLP_Annotator_Creation.ipynb\" target=\"_parent\"><img src=\"https://colab.research.google.com/assets/colab-badge.svg\" alt=\"Open In Colab\"/></a>"
      ]
    },
    {
      "cell_type": "code",
      "execution_count": null,
      "metadata": {
        "id": "j7Z9ZGn1WPgN"
      },
      "outputs": [],
      "source": [
        "data =[\n",
        "    (\"I love  is product!\",\"positive\"),\n",
        "    (\"this is not what I expected.\",\"negative\"),\n",
        "    (\"the cutomer service was excellent.\",\"positive\"),\n",
        "    (\"the quality of the item is poor\",\"negative\")\n",
        "]"
      ]
    },
    {
      "cell_type": "code",
      "source": [
        "print(\"define the annotaor\")\n",
        "def annotate_data(data):\n",
        "  annotate_data =[]\n",
        "  for text,label in data:\n",
        "    annotate_data.append((text,label))\n",
        "    return annotate_data\n"
      ],
      "metadata": {
        "colab": {
          "base_uri": "https://localhost:8080/"
        },
        "id": "n9KRki1zXGCt",
        "outputId": "331cdf64-7e3d-4878-e950-2ee3868f4e52"
      },
      "execution_count": null,
      "outputs": [
        {
          "output_type": "stream",
          "name": "stdout",
          "text": [
            "define the annotaor\n"
          ]
        }
      ]
    },
    {
      "cell_type": "code",
      "source": [
        "print(\"Annotate the data\")\n",
        "annotated_data= annotate_data(data)\n",
        "for text,label in annotated_data:\n",
        "  print(f\"text :{text}\\tlabel:{label}\")"
      ],
      "metadata": {
        "colab": {
          "base_uri": "https://localhost:8080/"
        },
        "id": "b_nJhXOmXGFu",
        "outputId": "76ae123b-f21f-44c0-afaa-5d54e71a07ce"
      },
      "execution_count": null,
      "outputs": [
        {
          "output_type": "stream",
          "name": "stdout",
          "text": [
            "Annotate the data\n",
            "text :I love  is product!\tlabel:positive\n"
          ]
        }
      ]
    }
  ]
}