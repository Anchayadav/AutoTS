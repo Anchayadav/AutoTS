{
  "nbformat": 4,
  "nbformat_minor": 0,
  "metadata": {
    "colab": {
      "provenance": [],
      "authorship_tag": "ABX9TyMNZEQl63UsegBpONouVED6",
      "include_colab_link": true
    },
    "kernelspec": {
      "name": "python3",
      "display_name": "Python 3"
    },
    "language_info": {
      "name": "python"
    }
  },
  "cells": [
    {
      "cell_type": "markdown",
      "metadata": {
        "id": "view-in-github",
        "colab_type": "text"
      },
      "source": [
        "<a href=\"https://colab.research.google.com/github/Anchayadav/AutoTS/blob/main/Text_Processing_for_NLP_Frequeny_Distribution_.ipynb\" target=\"_parent\"><img src=\"https://colab.research.google.com/assets/colab-badge.svg\" alt=\"Open In Colab\"/></a>"
      ]
    },
    {
      "cell_type": "code",
      "execution_count": null,
      "metadata": {
        "id": "lg_Z8ipuP_5H"
      },
      "outputs": [],
      "source": [
        "from collections import Counter"
      ]
    },
    {
      "cell_type": "code",
      "source": [
        "text= \"this is a sample text. it contains some word. this text is used for frequency distribution example\""
      ],
      "metadata": {
        "id": "aIOMy11-QPwY"
      },
      "execution_count": null,
      "outputs": []
    },
    {
      "cell_type": "code",
      "source": [
        "print(\"tokenization\")\n",
        "words =text.split()\n",
        "print(\"tokenized word:\",words)\n",
        "print(\"\")"
      ],
      "metadata": {
        "colab": {
          "base_uri": "https://localhost:8080/"
        },
        "id": "gNl04LkZQP24",
        "outputId": "129d4372-e02d-4257-a6ea-0cf92cbf8282"
      },
      "execution_count": null,
      "outputs": [
        {
          "output_type": "stream",
          "name": "stdout",
          "text": [
            "tokenization\n",
            "tokenized word: ['this', 'is', 'a', 'sample', 'text.', 'it', 'contains', 'some', 'word.', 'this', 'text', 'is', 'used', 'for', 'frequency', 'distribution', 'example']\n",
            "\n"
          ]
        }
      ]
    },
    {
      "cell_type": "code",
      "source": [
        "print(\"calculating the frequency\")\n",
        "word_frequency = Counter(words)\n",
        "print(\"word frequency:\",word_frequency)"
      ],
      "metadata": {
        "colab": {
          "base_uri": "https://localhost:8080/"
        },
        "id": "b1mNmsagQP5d",
        "outputId": "5e99ad58-41ba-417f-afdd-811176fdd4d3"
      },
      "execution_count": null,
      "outputs": [
        {
          "output_type": "stream",
          "name": "stdout",
          "text": [
            "calculating the frequency\n",
            "word frequency: Counter({'this': 2, 'is': 2, 'a': 1, 'sample': 1, 'text.': 1, 'it': 1, 'contains': 1, 'some': 1, 'word.': 1, 'text': 1, 'used': 1, 'for': 1, 'frequency': 1, 'distribution': 1, 'example': 1})\n"
          ]
        }
      ]
    },
    {
      "cell_type": "code",
      "source": [
        "print(\" display the word frequency\")\n",
        "print(\"word\\t\\tfrequency\")\n",
        "print(\"---------------------\")\n",
        "for word,frequency in word_frequency.items():\n",
        "  print(f\"{word}\\t\\t{frequency}\")"
      ],
      "metadata": {
        "colab": {
          "base_uri": "https://localhost:8080/"
        },
        "id": "87B3HZsgQP7Z",
        "outputId": "8e923883-0e80-4c9c-a4d1-c8b0795b7cf3"
      },
      "execution_count": null,
      "outputs": [
        {
          "output_type": "stream",
          "name": "stdout",
          "text": [
            " display the word frequency\n",
            "word\t\tfrequency\n",
            "---------------------\n",
            "this\t\t2\n",
            "is\t\t2\n",
            "a\t\t1\n",
            "sample\t\t1\n",
            "text.\t\t1\n",
            "it\t\t1\n",
            "contains\t\t1\n",
            "some\t\t1\n",
            "word.\t\t1\n",
            "text\t\t1\n",
            "used\t\t1\n",
            "for\t\t1\n",
            "frequency\t\t1\n",
            "distribution\t\t1\n",
            "example\t\t1\n"
          ]
        }
      ]
    },
    {
      "cell_type": "code",
      "source": [
        "print(\"frequency  distribution\")\n",
        "for word,frequency in word_frequency.items():\n",
        "  print(f\"{word}\\t\\t{frequency}\")"
      ],
      "metadata": {
        "colab": {
          "base_uri": "https://localhost:8080/"
        },
        "id": "gOcenEXgQP9a",
        "outputId": "383a8660-fa3b-44a7-c1db-d535f7363151"
      },
      "execution_count": null,
      "outputs": [
        {
          "output_type": "stream",
          "name": "stdout",
          "text": [
            "frequency  distribution\n",
            "this\t\t2\n",
            "is\t\t2\n",
            "a\t\t1\n",
            "sample\t\t1\n",
            "text.\t\t1\n",
            "it\t\t1\n",
            "contains\t\t1\n",
            "some\t\t1\n",
            "word.\t\t1\n",
            "text\t\t1\n",
            "used\t\t1\n",
            "for\t\t1\n",
            "frequency\t\t1\n",
            "distribution\t\t1\n",
            "example\t\t1\n"
          ]
        }
      ]
    },
    {
      "cell_type": "code",
      "source": [],
      "metadata": {
        "id": "5Quh7dIBQP__"
      },
      "execution_count": null,
      "outputs": []
    },
    {
      "cell_type": "code",
      "source": [],
      "metadata": {
        "id": "LZ06iNjsQQCB"
      },
      "execution_count": null,
      "outputs": []
    },
    {
      "cell_type": "code",
      "source": [],
      "metadata": {
        "id": "jIXUGT4nQQEC"
      },
      "execution_count": null,
      "outputs": []
    },
    {
      "cell_type": "code",
      "source": [],
      "metadata": {
        "id": "eMJHkIdKQQGc"
      },
      "execution_count": null,
      "outputs": []
    }
  ]
}