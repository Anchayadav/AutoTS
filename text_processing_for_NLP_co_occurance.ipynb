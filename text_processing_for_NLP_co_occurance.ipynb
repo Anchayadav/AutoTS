{
  "nbformat": 4,
  "nbformat_minor": 0,
  "metadata": {
    "colab": {
      "provenance": [],
      "authorship_tag": "ABX9TyPNdasj4k/KwZDgQEYt0VyG",
      "include_colab_link": true
    },
    "kernelspec": {
      "name": "python3",
      "display_name": "Python 3"
    },
    "language_info": {
      "name": "python"
    }
  },
  "cells": [
    {
      "cell_type": "markdown",
      "metadata": {
        "id": "view-in-github",
        "colab_type": "text"
      },
      "source": [
        "<a href=\"https://colab.research.google.com/github/Anchayadav/AutoTS/blob/main/text_processing_for_NLP_co_occurance.ipynb\" target=\"_parent\"><img src=\"https://colab.research.google.com/assets/colab-badge.svg\" alt=\"Open In Colab\"/></a>"
      ]
    },
    {
      "cell_type": "code",
      "execution_count": null,
      "metadata": {
        "id": "CtCCjGX7Cv-C"
      },
      "outputs": [],
      "source": [
        "import numpy as np\n",
        "import nltk\n",
        "from  collections import defaultdict\n",
        "from nltk.tokenize import  word_tokenize,sent_tokenize"
      ]
    },
    {
      "cell_type": "code",
      "source": [
        "text ='co-occurance vectors capture word relationship in atext corpus. they are used for various nlp task'\n"
      ],
      "metadata": {
        "id": "U_wIdbAcDsDv"
      },
      "execution_count": null,
      "outputs": []
    },
    {
      "cell_type": "code",
      "source": [
        "import nltk\n",
        "nltk.download('punkt')"
      ],
      "metadata": {
        "colab": {
          "base_uri": "https://localhost:8080/"
        },
        "id": "k2ocEUK3DsGm",
        "outputId": "d51a936f-c48c-4e2e-dfde-47ca09a32179"
      },
      "execution_count": null,
      "outputs": [
        {
          "output_type": "stream",
          "name": "stderr",
          "text": [
            "[nltk_data] Downloading package punkt to /root/nltk_data...\n",
            "[nltk_data]   Package punkt is already up-to-date!\n"
          ]
        },
        {
          "output_type": "execute_result",
          "data": {
            "text/plain": [
              "True"
            ]
          },
          "metadata": {},
          "execution_count": 15
        }
      ]
    },
    {
      "cell_type": "code",
      "source": [
        "print(\"tokenize  into sentence and words\")\n",
        "sentences = sent_tokenize(text)\n",
        "tokenized_sentence = [word_tokenize(sentence.lower()) for sentence in sentences]\n",
        "print(tokenized_sentence)"
      ],
      "metadata": {
        "colab": {
          "base_uri": "https://localhost:8080/"
        },
        "id": "5H-m9JIQDsIz",
        "outputId": "bd94afaf-1358-4b76-cf38-c88e4a2a82d5"
      },
      "execution_count": null,
      "outputs": [
        {
          "output_type": "stream",
          "name": "stdout",
          "text": [
            "tokenize  into sentence and words\n",
            "[['co-occurance', 'vectors', 'capture', 'word', 'relationship', 'in', 'atext', 'corpus', '.'], ['they', 'are', 'used', 'for', 'various', 'nlp', 'task']]\n"
          ]
        }
      ]
    },
    {
      "cell_type": "code",
      "source": [
        "print(\"building co-occurances marris\")\n",
        "window_size=2\n",
        "co_occuraces_matrix=defaultdict(lambda:defaultdict(int))\n",
        "for sentence in tokenized_sentence:\n",
        "  for i ,target_word in enumerate(sentence):\n",
        "    for j in range(max(0,i-window_size),min(len(sentence),i+ window_size+1)):\n",
        "      if i!=j:\n",
        "        context_word =sentence[j]\n",
        "        co_occuraces_matrix[target_word][context_word] +=1\n"
      ],
      "metadata": {
        "colab": {
          "base_uri": "https://localhost:8080/"
        },
        "id": "mibtKW7JDswl",
        "outputId": "88c6093e-b142-4414-dafd-745b66a0db58"
      },
      "execution_count": null,
      "outputs": [
        {
          "output_type": "stream",
          "name": "stdout",
          "text": [
            "building co-occurances marris\n"
          ]
        }
      ]
    },
    {
      "cell_type": "code",
      "source": [
        "print(\"Co-occurance matrix\")\n",
        "for target_word,context_word in co_occuraces_matrix.items():\n",
        "  print(target_word,context_word)\n",
        "  print()"
      ],
      "metadata": {
        "colab": {
          "base_uri": "https://localhost:8080/"
        },
        "id": "WB0D9bFBGQUN",
        "outputId": "f5119cd1-5590-4450-abe7-08f817f61217"
      },
      "execution_count": null,
      "outputs": [
        {
          "output_type": "stream",
          "name": "stdout",
          "text": [
            "Co-occurance matrix\n",
            "co-occurance defaultdict(<class 'int'>, {'vectors': 1, 'capture': 1})\n",
            "\n",
            "vectors defaultdict(<class 'int'>, {'co-occurance': 1, 'capture': 1, 'word': 1})\n",
            "\n",
            "capture defaultdict(<class 'int'>, {'co-occurance': 1, 'vectors': 1, 'word': 1, 'relationship': 1})\n",
            "\n",
            "word defaultdict(<class 'int'>, {'vectors': 1, 'capture': 1, 'relationship': 1, 'in': 1})\n",
            "\n",
            "relationship defaultdict(<class 'int'>, {'capture': 1, 'word': 1, 'in': 1, 'atext': 1})\n",
            "\n",
            "in defaultdict(<class 'int'>, {'word': 1, 'relationship': 1, 'atext': 1, 'corpus': 1})\n",
            "\n",
            "atext defaultdict(<class 'int'>, {'relationship': 1, 'in': 1, 'corpus': 1, '.': 1})\n",
            "\n",
            "corpus defaultdict(<class 'int'>, {'in': 1, 'atext': 1, '.': 1})\n",
            "\n",
            ". defaultdict(<class 'int'>, {'atext': 1, 'corpus': 1})\n",
            "\n",
            "they defaultdict(<class 'int'>, {'are': 1, 'used': 1})\n",
            "\n",
            "are defaultdict(<class 'int'>, {'they': 1, 'used': 1, 'for': 1})\n",
            "\n",
            "used defaultdict(<class 'int'>, {'they': 1, 'are': 1, 'for': 1, 'various': 1})\n",
            "\n",
            "for defaultdict(<class 'int'>, {'are': 1, 'used': 1, 'various': 1, 'nlp': 1})\n",
            "\n",
            "various defaultdict(<class 'int'>, {'used': 1, 'for': 1, 'nlp': 1, 'task': 1})\n",
            "\n",
            "nlp defaultdict(<class 'int'>, {'for': 1, 'various': 1, 'task': 1})\n",
            "\n",
            "task defaultdict(<class 'int'>, {'various': 1, 'nlp': 1})\n",
            "\n"
          ]
        }
      ]
    }
  ]
}