{
  "nbformat": 4,
  "nbformat_minor": 0,
  "metadata": {
    "colab": {
      "provenance": [],
      "authorship_tag": "ABX9TyOBpOb5F8xU1rntzj96vFzl",
      "include_colab_link": true
    },
    "kernelspec": {
      "name": "python3",
      "display_name": "Python 3"
    },
    "language_info": {
      "name": "python"
    }
  },
  "cells": [
    {
      "cell_type": "markdown",
      "metadata": {
        "id": "view-in-github",
        "colab_type": "text"
      },
      "source": [
        "<a href=\"https://colab.research.google.com/github/Anchayadav/AutoTS/blob/main/Text_Preprocessing_for_NLP_Word_Embedding_.ipynb\" target=\"_parent\"><img src=\"https://colab.research.google.com/assets/colab-badge.svg\" alt=\"Open In Colab\"/></a>"
      ]
    },
    {
      "cell_type": "code",
      "execution_count": null,
      "metadata": {
        "id": "m7-60OQM1CvN"
      },
      "outputs": [],
      "source": [
        "    from gensim.models import Word2Vec\n",
        "import nltk\n",
        "from nltk.tokenize import sent_tokenize,word_tokenize"
      ]
    },
    {
      "cell_type": "code",
      "source": [
        "text=\"Word Embedding are essential in nlp task. they capture semantic relationship between words.\""
      ],
      "metadata": {
        "id": "q0JKLeiH1gLR"
      },
      "execution_count": null,
      "outputs": []
    },
    {
      "cell_type": "code",
      "source": [
        "import nltk\n",
        "nltk.download('punkt')"
      ],
      "metadata": {
        "colab": {
          "base_uri": "https://localhost:8080/"
        },
        "id": "dgzPdOeh1gWg",
        "outputId": "a5028419-c4d3-4de4-830f-06f842b484c0"
      },
      "execution_count": null,
      "outputs": [
        {
          "output_type": "stream",
          "name": "stderr",
          "text": [
            "[nltk_data] Downloading package punkt to /root/nltk_data...\n",
            "[nltk_data]   Unzipping tokenizers/punkt.zip.\n"
          ]
        },
        {
          "output_type": "execute_result",
          "data": {
            "text/plain": [
              "True"
            ]
          },
          "metadata": {},
          "execution_count": 3
        }
      ]
    },
    {
      "cell_type": "code",
      "source": [
        "print(\"tokenize for the sentence word\")\n",
        "sentences= sent_tokenize(text)\n",
        "tokenized_sentenced = [word_tokenize(sentence.lower()) for sentence in sentences]\n",
        "print(\"tokenized sentence:\",tokenized_sentenced)\n",
        "print()"
      ],
      "metadata": {
        "colab": {
          "base_uri": "https://localhost:8080/"
        },
        "id": "y17RrNZr1gZv",
        "outputId": "675605fc-f303-4598-c732-9c98c9ccf94a"
      },
      "execution_count": null,
      "outputs": [
        {
          "output_type": "stream",
          "name": "stdout",
          "text": [
            "tokenize for the sentence word\n",
            "tokenized sentence: [['word', 'embedding', 'are', 'essential', 'in', 'nlp', 'task', '.'], ['they', 'capture', 'semantic', 'relationship', 'between', 'words', '.']]\n",
            "\n"
          ]
        }
      ]
    },
    {
      "cell_type": "code",
      "source": [
        "print(\"train the word2vec model\")\n",
        "model= Word2Vec(tokenized_sentenced,vector_size=100,window=5,min_count=1,sg=0)\n",
        "print(\"Word2Vec model trained succesfully\")\n",
        "print(\"\")"
      ],
      "metadata": {
        "colab": {
          "base_uri": "https://localhost:8080/"
        },
        "id": "z3mkg66j1gcJ",
        "outputId": "ace56065-1777-449d-f669-45370d00c7bc"
      },
      "execution_count": null,
      "outputs": [
        {
          "output_type": "stream",
          "name": "stdout",
          "text": [
            "train the word2vec model\n",
            "Word2Vec model trained succesfully\n",
            "\n"
          ]
        }
      ]
    },
    {
      "cell_type": "code",
      "source": [
        "print(\"acces the vectors\")\n",
        "word_vector=model.wv\n",
        "vector =word_vector['word']\n",
        "print(\"vector for  'word':\",vector)\n",
        "print(\"\")"
      ],
      "metadata": {
        "colab": {
          "base_uri": "https://localhost:8080/"
        },
        "id": "OBz7tEB11gez",
        "outputId": "e7f0afbf-e3a3-47f6-8bf5-b58e2796bb38"
      },
      "execution_count": null,
      "outputs": [
        {
          "output_type": "stream",
          "name": "stdout",
          "text": [
            "acces the vectors\n",
            "vector for  'they': [ 8.13227147e-03 -4.45733406e-03 -1.06835726e-03  1.00636482e-03\n",
            " -1.91113955e-04  1.14817743e-03  6.11386076e-03 -2.02715401e-05\n",
            " -3.24596534e-03 -1.51072862e-03  5.89729892e-03  1.51410222e-03\n",
            " -7.24261976e-04  9.33324732e-03 -4.92128357e-03 -8.38409644e-04\n",
            "  9.17541143e-03  6.74942741e-03  1.50285603e-03 -8.88256077e-03\n",
            "  1.14874600e-03 -2.28825561e-03  9.36823711e-03  1.20992784e-03\n",
            "  1.49006362e-03  2.40640994e-03 -1.83600665e-03 -4.99963388e-03\n",
            "  2.32429506e-04 -2.01418041e-03  6.60093315e-03  8.94012302e-03\n",
            " -6.74754381e-04  2.97701475e-03 -6.10765442e-03  1.69932481e-03\n",
            " -6.92623248e-03 -8.69402662e-03 -5.90020278e-03 -8.95647518e-03\n",
            "  7.27759488e-03 -5.77203138e-03  8.27635173e-03 -7.24354526e-03\n",
            "  3.42167495e-03  9.67499893e-03 -7.78544787e-03 -9.94505733e-03\n",
            " -4.32914635e-03 -2.68313056e-03 -2.71289347e-04 -8.83155130e-03\n",
            " -8.61755759e-03  2.80021061e-03 -8.20640661e-03 -9.06933658e-03\n",
            " -2.34046578e-03 -8.63180775e-03 -7.05664977e-03 -8.40115082e-03\n",
            " -3.01328895e-04 -4.56429832e-03  6.62717456e-03  1.52716041e-03\n",
            " -3.34147573e-03  6.10897178e-03 -6.01328490e-03 -4.65616956e-03\n",
            " -7.20750913e-03 -4.33658017e-03 -1.80932996e-03  6.48964290e-03\n",
            " -2.77039292e-03  4.91896737e-03  6.90444233e-03 -7.46370573e-03\n",
            "  4.56485013e-03  6.12697843e-03 -2.95447465e-03  6.62502181e-03\n",
            "  6.12587947e-03 -6.44348515e-03 -6.76455162e-03  2.53895880e-03\n",
            " -1.62381888e-03 -6.06512791e-03  9.49920900e-03 -5.13014663e-03\n",
            " -6.55409694e-03 -1.19885204e-04 -2.70142802e-03  4.44400299e-04\n",
            " -3.53745813e-03 -4.19330609e-04 -7.08615757e-04  8.22820642e-04\n",
            "  8.19481723e-03 -5.73670724e-03 -1.65952800e-03  5.57160750e-03]\n",
            "\n"
          ]
        }
      ]
    },
    {
      "cell_type": "code",
      "source": [
        "print(\"similiar word find\")\n",
        "similar_word=model.wv.most_similar('embedding',topn=3)\n",
        "print(\"similar word  to embedding:\",similar_word)"
      ],
      "metadata": {
        "colab": {
          "base_uri": "https://localhost:8080/"
        },
        "id": "HcOQ3jjy1ghT",
        "outputId": "662ef8c4-d7ab-4cfb-be25-f424ffd86075"
      },
      "execution_count": null,
      "outputs": [
        {
          "output_type": "stream",
          "name": "stdout",
          "text": [
            "similiar word find\n",
            "similar word  to embedding: [('semantic', 0.1501718908548355), ('essential', 0.12813477218151093), ('.', 0.0931011438369751)]\n"
          ]
        }
      ]
    },
    {
      "cell_type": "code",
      "source": [],
      "metadata": {
        "id": "bxNTfx-31gjW"
      },
      "execution_count": null,
      "outputs": []
    },
    {
      "cell_type": "code",
      "source": [],
      "metadata": {
        "id": "S9HF5c6j1guY"
      },
      "execution_count": null,
      "outputs": []
    }
  ]
}