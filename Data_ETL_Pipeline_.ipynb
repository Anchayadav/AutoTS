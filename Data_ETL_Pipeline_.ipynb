{
  "cells": [
    {
      "cell_type": "markdown",
      "metadata": {
        "id": "view-in-github",
        "colab_type": "text"
      },
      "source": [
        "<a href=\"https://colab.research.google.com/github/Anchayadav/AutoTS/blob/main/Data_ETL_Pipeline_.ipynb\" target=\"_parent\"><img src=\"https://colab.research.google.com/assets/colab-badge.svg\" alt=\"Open In Colab\"/></a>"
      ]
    },
    {
      "cell_type": "code",
      "execution_count": null,
      "metadata": {
        "colab": {
          "base_uri": "https://localhost:8080/"
        },
        "id": "wrRnBwPD9TZ9",
        "outputId": "3b8d95c5-9f7d-4809-cf63-42c7b73ccb02"
      },
      "outputs": [
        {
          "name": "stdout",
          "output_type": "stream",
          "text": [
            "Downloading data from https://storage.googleapis.com/tensorflow/tf-keras-datasets/train-labels-idx1-ubyte.gz\n",
            "29515/29515 [==============================] - 0s 0us/step\n",
            "Downloading data from https://storage.googleapis.com/tensorflow/tf-keras-datasets/train-images-idx3-ubyte.gz\n",
            "26421880/26421880 [==============================] - 0s 0us/step\n",
            "Downloading data from https://storage.googleapis.com/tensorflow/tf-keras-datasets/t10k-labels-idx1-ubyte.gz\n",
            "5148/5148 [==============================] - 0s 0us/step\n",
            "Downloading data from https://storage.googleapis.com/tensorflow/tf-keras-datasets/t10k-images-idx3-ubyte.gz\n",
            "4422102/4422102 [==============================] - 0s 0us/step\n"
          ]
        }
      ],
      "source": [
        "#from tensorflow as tf\n",
        "import tensorflow.keras  as  keras\n",
        "(x_train,y_train) ,(x_test,y_test) = keras.datasets.fashion_mnist.load_data()"
      ]
    },
    {
      "cell_type": "code",
      "execution_count": null,
      "metadata": {
        "colab": {
          "base_uri": "https://localhost:8080/"
        },
        "id": "LyUYd8OH-GtZ",
        "outputId": "1e4bd2d0-63ad-4404-de39-ce572f81a5bb"
      },
      "outputs": [
        {
          "name": "stdout",
          "output_type": "stream",
          "text": [
            "(60000, 28, 28)\n",
            "(60000,)\n",
            "(10000, 28, 28)\n",
            "(10000,)\n"
          ]
        }
      ],
      "source": [
        "print(x_train.shape)\n",
        "print(y_train.shape)\n",
        "print(x_test.shape)\n",
        "print(y_test.shape)"
      ]
    },
    {
      "cell_type": "code",
      "execution_count": null,
      "metadata": {
        "colab": {
          "base_uri": "https://localhost:8080/"
        },
        "id": "QvF1oOPA-GwH",
        "outputId": "bfa506fb-0650-4f4c-f611-727ffc591885"
      },
      "outputs": [
        {
          "name": "stdout",
          "output_type": "stream",
          "text": [
            "(60000, 28, 28, 1)\n",
            "(60000,)\n",
            "(10000, 28, 28, 1)\n",
            "(10000,)\n"
          ]
        }
      ],
      "source": [
        "import numpy as np\n",
        "\n",
        "x_train =x_train.astype('float32')/255\n",
        "x_test =x_test.astype('float32') /255\n",
        "\n",
        "x_train = np.reshape(x_train,(x_train.shape[0],28,28,1))\n",
        "x_test = np.reshape(x_test,(x_test.shape[0],28,28,1))\n",
        "\n",
        "print(x_train.shape)\n",
        "print(y_train.shape)\n",
        "print(x_test.shape)\n",
        "print(y_test.shape)"
      ]
    },
    {
      "cell_type": "code",
      "execution_count": null,
      "metadata": {
        "colab": {
          "background_save": true
        },
        "id": "-1Dw2SlP-GzN",
        "outputId": "7315ea61-cf1c-47e7-e799-2d5ed3ac21a4"
      },
      "outputs": [
        {
          "ename": "OperationalError",
          "evalue": "ignored",
          "output_type": "error",
          "traceback": [
            "\u001b[0;31m---------------------------------------------------------------------------\u001b[0m",
            "\u001b[0;31mOperationalError\u001b[0m                          Traceback (most recent call last)",
            "\u001b[0;32m<ipython-input-4-6b7b7333aabe>\u001b[0m in \u001b[0;36m<cell line: 12>\u001b[0;34m()\u001b[0m\n\u001b[1;32m     11\u001b[0m \u001b[0;34m\u001b[0m\u001b[0m\n\u001b[1;32m     12\u001b[0m \u001b[0;32mfor\u001b[0m \u001b[0mi\u001b[0m \u001b[0;32min\u001b[0m \u001b[0mrange\u001b[0m\u001b[0;34m(\u001b[0m\u001b[0mx_test\u001b[0m\u001b[0;34m.\u001b[0m\u001b[0mshape\u001b[0m\u001b[0;34m[\u001b[0m\u001b[0;36m0\u001b[0m\u001b[0;34m]\u001b[0m\u001b[0;34m)\u001b[0m\u001b[0;34m:\u001b[0m\u001b[0;34m\u001b[0m\u001b[0;34m\u001b[0m\u001b[0m\n\u001b[0;32m---> 13\u001b[0;31m   conn.execute('INSERT INTO  iamges(images,label) VALUES(?,\")',\n\u001b[0m\u001b[1;32m     14\u001b[0m                [sqlite3.Binary(x_test[i]),y_test[i]])\n\u001b[1;32m     15\u001b[0m   \u001b[0mconn\u001b[0m\u001b[0;34m.\u001b[0m\u001b[0mcommit\u001b[0m\u001b[0;34m(\u001b[0m\u001b[0;34m)\u001b[0m\u001b[0;34m\u001b[0m\u001b[0;34m\u001b[0m\u001b[0m\n",
            "\u001b[0;31mOperationalError\u001b[0m: unrecognized token: \"\")\""
          ]
        }
      ],
      "source": [
        "import sqlite3\n",
        "conn =sqlite3.connect('fashion_mnist.db')\n",
        "conn.execute(''' CREATE TABLE IF NOT EXISTS images\n",
        "            ( id INTEGER PRIMARY KEY AUTOINCREMENT,\n",
        "            image BLOB NOT NULL,\n",
        "            label INTEGER NOT NULL );''')\n",
        "for i in  range(x_train.shape[0]):\n",
        "  conn.execute('INSERT INTO images (image,label) VALUES( ? , ?)',\n",
        "               [sqlite3.Binary(x_train[i]),y_train[i]])\n",
        "  conn.commit()\n",
        "\n",
        "for i in range(x_test.shape[0]):\n",
        "  conn.execute('INSERT INTO  iamges(images,label) VALUES(?,\")',\n",
        "               [sqlite3.Binary(x_test[i]),y_test[i]])\n",
        "  conn.commit()\n",
        "  conn.close()\n",
        "\n"
      ]
    },
    {
      "cell_type": "code",
      "execution_count": null,
      "metadata": {
        "id": "d1gLtuWoBDXz"
      },
      "outputs": [],
      "source": [
        "import sqlite3\n",
        "conn = sqlite3.connect('fashion_mnist.db')\n",
        "cursor= conn.cursor()\n",
        "\n",
        "cursor.execute('SELECT *FROM images')\n",
        "rows = cursor.fetchall()\n",
        "\n",
        "import pandas as pd\n",
        "data =pd.read_sql_query('SELECT *FROM images',conn)\n"
      ]
    },
    {
      "cell_type": "code",
      "execution_count": null,
      "metadata": {
        "id": "ztv73WVgBEKS"
      },
      "outputs": [],
      "source": []
    },
    {
      "cell_type": "code",
      "execution_count": null,
      "metadata": {
        "id": "SPDJhtGBBENu"
      },
      "outputs": [],
      "source": []
    }
  ],
  "metadata": {
    "colab": {
      "provenance": [],
      "authorship_tag": "ABX9TyP2FhUSKNOqIIgVPSO15eB+",
      "include_colab_link": true
    },
    "kernelspec": {
      "display_name": "Python 3",
      "name": "python3"
    },
    "language_info": {
      "name": "python"
    }
  },
  "nbformat": 4,
  "nbformat_minor": 0
}