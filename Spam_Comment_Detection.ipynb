{
  "nbformat": 4,
  "nbformat_minor": 0,
  "metadata": {
    "colab": {
      "provenance": [],
      "authorship_tag": "ABX9TyPjJcRSfukvC/CwBsjXd1LG",
      "include_colab_link": true
    },
    "kernelspec": {
      "name": "python3",
      "display_name": "Python 3"
    },
    "language_info": {
      "name": "python"
    }
  },
  "cells": [
    {
      "cell_type": "markdown",
      "metadata": {
        "id": "view-in-github",
        "colab_type": "text"
      },
      "source": [
        "<a href=\"https://colab.research.google.com/github/Anchayadav/AutoTS/blob/main/Spam_Comment_Detection.ipynb\" target=\"_parent\"><img src=\"https://colab.research.google.com/assets/colab-badge.svg\" alt=\"Open In Colab\"/></a>"
      ]
    },
    {
      "cell_type": "code",
      "execution_count": null,
      "metadata": {
        "colab": {
          "base_uri": "https://localhost:8080/"
        },
        "id": "1fv8tzmlNEdO",
        "outputId": "a4f71f93-40ed-4b44-c69e-800682c23e08"
      },
      "outputs": [
        {
          "output_type": "stream",
          "name": "stdout",
          "text": [
            "                                    COMMENT_ID            AUTHOR  \\\n",
            "0  LZQPQhLyRh80UYxNuaDWhIGQYNQ96IuCg-AYWqNPjpU         Julius NM   \n",
            "1  LZQPQhLyRh_C2cTtd9MvFRJedxydaVW-2sNg5Diuo4A       adam riyati   \n",
            "2  LZQPQhLyRh9MSZYnf8djyk0gEF9BHDPYrrK-qCczIY8  Evgeny Murashkin   \n",
            "3          z13jhp0bxqncu512g22wvzkasxmvvzjaz04   ElNino Melendez   \n",
            "4          z13fwbwp1oujthgqj04chlngpvzmtt3r3dw            GsMega   \n",
            "\n",
            "                  DATE                                            CONTENT  \\\n",
            "0  2013-11-07T06:20:48  Huh, anyway check out this you[tube] channel: ...   \n",
            "1  2013-11-07T12:37:15  Hey guys check out my new channel and our firs...   \n",
            "2  2013-11-08T17:34:21             just for test I have to say murdev.com   \n",
            "3  2013-11-09T08:28:43   me shaking my sexy ass on my channel enjoy ^_^ ﻿   \n",
            "4  2013-11-10T16:05:38            watch?v=vtaRGgvGtWQ   Check this out .﻿   \n",
            "\n",
            "   CLASS  \n",
            "0      1  \n",
            "1      1  \n",
            "2      1  \n",
            "3      1  \n",
            "4      1  \n"
          ]
        }
      ],
      "source": [
        "import pandas as pd\n",
        "import numpy as np\n",
        "from sklearn.feature_extraction.text import CountVectorizer\n",
        "from sklearn.model_selection import train_test_split\n",
        "from sklearn.naive_bayes import BernoulliNB\n",
        "\n",
        "data=pd.read_csv(\"Youtube01-Psy.csv\")\n",
        "print(data.head())"
      ]
    },
    {
      "cell_type": "code",
      "source": [
        "data=data[['CONTENT','CLASS']]\n",
        "print(data.sample(5))"
      ],
      "metadata": {
        "colab": {
          "base_uri": "https://localhost:8080/"
        },
        "id": "Eraxi2m8Nvec",
        "outputId": "7bc1453c-f74f-4be4-8b74-712b4c252373"
      },
      "execution_count": null,
      "outputs": [
        {
          "output_type": "stream",
          "name": "stdout",
          "text": [
            "                                               CONTENT  CLASS\n",
            "168  http://www.amazon.co.uk/gp/offer-listing/B00EC...      1\n",
            "8      You should check my channel for Funny VIDEOS!!﻿      1\n",
            "305                  please throw a sub on my channel﻿      1\n",
            "186                    most viewed video in the world﻿      0\n",
            "153                http://www.twitch.tv/zxlightsoutxz﻿      1\n"
          ]
        }
      ]
    },
    {
      "cell_type": "code",
      "source": [
        "data['CLASS']=data['CLASS'].map({0 : \"Not Spam\",\n",
        "                                     1: \"Spam Comment\"})\n",
        "print(data.sample(5))"
      ],
      "metadata": {
        "colab": {
          "base_uri": "https://localhost:8080/"
        },
        "id": "0dFitGIlNvuJ",
        "outputId": "9269ffc0-4a1a-4ceb-bec2-accfc4944127"
      },
      "execution_count": null,
      "outputs": [
        {
          "output_type": "stream",
          "name": "stdout",
          "text": [
            "                                               CONTENT         CLASS\n",
            "289             YOUTUBE MONEY !!!!!!!!!!!!!!!!!!!!!!!﻿      Not Spam\n",
            "310  I hav absolutely no idea what he's saying. Is ...      Not Spam\n",
            "56                   hi guys check my youtube channel﻿  Spam Comment\n",
            "277  Hey, join me on tsū, a publishing platform whe...  Spam Comment\n",
            "185  It's so funny it's awesomeness lol aaaaaaa sex...      Not Spam\n"
          ]
        }
      ]
    },
    {
      "cell_type": "code",
      "source": [],
      "metadata": {
        "id": "KhPc8BjQQK4n"
      },
      "execution_count": null,
      "outputs": []
    },
    {
      "cell_type": "code",
      "source": [
        "x=np.array(data['CONTENT'])\n",
        "y=np.array(data['CLASS'])\n",
        "\n",
        "cv=CountVectorizer()\n",
        "x=cv.fit_transform(x)\n",
        "xtrain,xtest,ytrain,ytest=train_test_split(x,y,test_size=0.2,random_state=42)\n",
        "\n",
        "model=BernoulliNB()\n",
        "model.fit(xtrain,ytrain)\n",
        "print(model.score(xtest,ytest))"
      ],
      "metadata": {
        "colab": {
          "base_uri": "https://localhost:8080/"
        },
        "id": "T2ME63RkOn9y",
        "outputId": "131cb1a1-9f60-4a66-8ffd-b0e59bbd021a"
      },
      "execution_count": null,
      "outputs": [
        {
          "output_type": "stream",
          "name": "stdout",
          "text": [
            "0.9857142857142858\n"
          ]
        }
      ]
    },
    {
      "cell_type": "code",
      "source": [
        "sample=\"check this out:hi guys check my youtube channel\"\n",
        "output =cv.transform([sample])\n",
        "print(model.predict(output))"
      ],
      "metadata": {
        "colab": {
          "base_uri": "https://localhost:8080/"
        },
        "id": "_2A5dUEvOoA_",
        "outputId": "8a37ca2c-876f-43a7-b2e5-9e6dcb5f3b40"
      },
      "execution_count": null,
      "outputs": [
        {
          "output_type": "stream",
          "name": "stdout",
          "text": [
            "['Spam Comment']\n"
          ]
        }
      ]
    },
    {
      "cell_type": "code",
      "source": [
        "sample= \"check this out : YOUTUBE MONEY !!!!!!!!!!!!!!!!!!!!!!!\"\n",
        "output =cv.transform([sample])\n",
        "print(model.predict(output))"
      ],
      "metadata": {
        "colab": {
          "base_uri": "https://localhost:8080/"
        },
        "id": "Mm1HzN3JOoIV",
        "outputId": "ba8917bc-a677-4530-d8d4-fb4284d5817a"
      },
      "execution_count": null,
      "outputs": [
        {
          "output_type": "stream",
          "name": "stdout",
          "text": [
            "['Not Spam']\n"
          ]
        }
      ]
    },
    {
      "cell_type": "code",
      "source": [],
      "metadata": {
        "id": "F9uovSaIOoLl"
      },
      "execution_count": null,
      "outputs": []
    }
  ]
}