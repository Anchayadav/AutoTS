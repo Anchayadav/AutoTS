{
  "nbformat": 4,
  "nbformat_minor": 0,
  "metadata": {
    "colab": {
      "provenance": [],
      "authorship_tag": "ABX9TyMOQNfilD1DzsMhL3blzENM",
      "include_colab_link": true
    },
    "kernelspec": {
      "name": "python3",
      "display_name": "Python 3"
    },
    "language_info": {
      "name": "python"
    }
  },
  "cells": [
    {
      "cell_type": "markdown",
      "metadata": {
        "id": "view-in-github",
        "colab_type": "text"
      },
      "source": [
        "<a href=\"https://colab.research.google.com/github/Anchayadav/AutoTS/blob/main/text_Summariozationwith_python.ipynb\" target=\"_parent\"><img src=\"https://colab.research.google.com/assets/colab-badge.svg\" alt=\"Open In Colab\"/></a>"
      ]
    },
    {
      "cell_type": "code",
      "execution_count": null,
      "metadata": {
        "colab": {
          "base_uri": "https://localhost:8080/"
        },
        "id": "4GyCfnQX_22E",
        "outputId": "80e2e940-bf2f-4f86-df55-d15dbbc56603"
      },
      "outputs": [
        {
          "output_type": "stream",
          "name": "stderr",
          "text": [
            "[nltk_data] Downloading package stopwords to /root/nltk_data...\n",
            "[nltk_data]   Package stopwords is already up-to-date!\n",
            "[nltk_data] Downloading package punkt to /root/nltk_data...\n",
            "[nltk_data]   Unzipping tokenizers/punkt.zip.\n"
          ]
        },
        {
          "output_type": "execute_result",
          "data": {
            "text/plain": [
              "True"
            ]
          },
          "metadata": {},
          "execution_count": 11
        }
      ],
      "source": [
        "import nltk\n",
        "import string\n",
        "from heapq import nlargest\n",
        "nltk.download('stopwords')\n",
        "nltk.download('punkt')"
      ]
    },
    {
      "cell_type": "code",
      "source": [
        "text=\"enter text to Summarization\"\n",
        "if text.count(\" .\") > 20:\n",
        "  length =int(round(text.count(\". \")/10,0))\n",
        "else:\n",
        "    length=1\n",
        "nopuch = [char for char in text if char not in string.punctuation]\n",
        "nopuch =\" \".join(nopuch)\n",
        "\n",
        "processed_text = [word for word in nopuch.split() if word.lower() not in nltk.corpus.stopwords.words('english')]\n",
        "\n",
        "word_freq={}\n",
        "\n",
        "for word in processed_text:\n",
        "  if word not in word_freq:\n",
        "    word_freq[word]=1\n",
        "  else:\n",
        "    word_freq[word]=word_freq[word] +1\n",
        "\n",
        "\n",
        "max_freq=max(word_freq.values())\n",
        "for word in word_freq.keys():\n",
        "  word_freq[word]= (word_freq[word]/max_freq)\n",
        "\n",
        "sent_list = nltk.sent_tokenize(text)\n",
        "sent_score={}\n",
        "for sent in sent_list:\n",
        "  for word in nltk.word_tokenize(sent.lower()):\n",
        "    if word in word_freq.keys():\n",
        "      if sent not in sent_score.keys():\n",
        "        sent_score[sent]=word_freq[word]\n",
        "      else:\n",
        "        sent_score[sent]=sent_score[sent]+word_freq[word]\n",
        "\n",
        "\n",
        "summary_sent = nlargest(length,sent_score,key=sent_score.get)\n",
        "summary = \" \".join(summary_sent)\n",
        "print(summary)\n"
      ],
      "metadata": {
        "colab": {
          "base_uri": "https://localhost:8080/"
        },
        "id": "N3ANDeCtANnz",
        "outputId": "adcb2b75-8a0b-464a-a29c-184bd3efd096"
      },
      "execution_count": null,
      "outputs": [
        {
          "output_type": "stream",
          "name": "stdout",
          "text": [
            "\n"
          ]
        }
      ]
    },
    {
      "cell_type": "code",
      "source": [],
      "metadata": {
        "id": "fviOYOWgEgxk"
      },
      "execution_count": null,
      "outputs": []
    },
    {
      "cell_type": "code",
      "source": [],
      "metadata": {
        "id": "z4MbpStWANrQ"
      },
      "execution_count": null,
      "outputs": []
    },
    {
      "cell_type": "code",
      "source": [],
      "metadata": {
        "id": "lmT_UGLNANy-"
      },
      "execution_count": null,
      "outputs": []
    },
    {
      "cell_type": "code",
      "source": [],
      "metadata": {
        "id": "G2wug0oYAN2Y"
      },
      "execution_count": null,
      "outputs": []
    }
  ]
}