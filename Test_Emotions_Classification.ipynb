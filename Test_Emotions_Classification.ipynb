{
  "nbformat": 4,
  "nbformat_minor": 0,
  "metadata": {
    "colab": {
      "provenance": [],
      "authorship_tag": "ABX9TyNPpywv0ldWU0swMiXAZIgM",
      "include_colab_link": true
    },
    "kernelspec": {
      "name": "python3",
      "display_name": "Python 3"
    },
    "language_info": {
      "name": "python"
    }
  },
  "cells": [
    {
      "cell_type": "markdown",
      "metadata": {
        "id": "view-in-github",
        "colab_type": "text"
      },
      "source": [
        "<a href=\"https://colab.research.google.com/github/Anchayadav/AutoTS/blob/main/Test_Emotions_Classification.ipynb\" target=\"_parent\"><img src=\"https://colab.research.google.com/assets/colab-badge.svg\" alt=\"Open In Colab\"/></a>"
      ]
    },
    {
      "cell_type": "code",
      "execution_count": null,
      "metadata": {
        "colab": {
          "base_uri": "https://localhost:8080/"
        },
        "id": "h3ljbw7OaEay",
        "outputId": "99339467-2d20-4cc8-f335-60f2bc58152c"
      },
      "outputs": [
        {
          "output_type": "stream",
          "name": "stdout",
          "text": [
            "                                                text Emotions\n",
            "0  i can go from feeling so hopeless to so damned...  sadness\n",
            "1   im grabbing a minute to post i feel greedy wrong    anger\n",
            "2  i am ever feeling nostalgic about the fireplac...     love\n",
            "3                               i am feeling grouchy    anger\n",
            "4  ive been feeling a little burdened lately wasn...  sadness\n"
          ]
        }
      ],
      "source": [
        "import pandas as pd\n",
        "import numpy as np\n",
        "import keras\n",
        "import tensorflow\n",
        "from keras.preprocessing.text import Tokenizer\n",
        "from tensorflow.keras.preprocessing.sequence import pad_sequences\n",
        "from sklearn.preprocessing import LabelEncoder\n",
        "from sklearn.model_selection import train_test_split\n",
        "from keras.models import Sequential\n",
        "from keras.layers import Embedding,Flatten,Dense\n",
        "\n",
        "data=pd.read_csv(\"train.txt\", sep=\";\")\n",
        "data.columns =[\"text\",\"Emotions\"]\n",
        "print(data.head())"
      ]
    },
    {
      "cell_type": "code",
      "source": [
        "text = data['text'].tolist()\n",
        "labels=data['Emotions'].tolist()\n",
        "\n",
        "tokenize = Tokenizer()\n",
        "tokenize.fit_on_texts(text)"
      ],
      "metadata": {
        "id": "atIMRDxHdVyc"
      },
      "execution_count": null,
      "outputs": []
    },
    {
      "cell_type": "code",
      "source": [
        "sequences=tokenize.texts_to_sequences(text)\n",
        "max_length = max([len(seq) for seq in sequences])\n",
        "padded_sequences = pad_sequences(sequences,maxlen=max_length)\n"
      ],
      "metadata": {
        "id": "8nRH-hmYdV1K"
      },
      "execution_count": null,
      "outputs": []
    },
    {
      "cell_type": "code",
      "source": [
        "label_encoder = LabelEncoder()\n",
        "labels=label_encoder.fit_transform(labels)\n"
      ],
      "metadata": {
        "id": "8n_MWzrjdV34"
      },
      "execution_count": null,
      "outputs": []
    },
    {
      "cell_type": "code",
      "source": [
        "one_hot_encoder = keras.utils.to_categorical(labels)\n"
      ],
      "metadata": {
        "id": "CjjLMBY0dV6F"
      },
      "execution_count": null,
      "outputs": []
    },
    {
      "cell_type": "code",
      "source": [
        "xtrain,xtest,ytrain,ytest =train_test_split(padded_sequences,one_hot_encoder,test_size=0.2)"
      ],
      "metadata": {
        "id": "dv1Xq3TedV8M"
      },
      "execution_count": null,
      "outputs": []
    },
    {
      "cell_type": "code",
      "source": [
        "model =Sequential()\n",
        "model.add(Embedding(input_dim=len(tokenize.word_index) + 1,\n",
        "                    output_dim=128,input_length=max_length))\n",
        "model.add(Flatten())\n",
        "model.add(Dense(units=128,activation='relu'))\n",
        "model.add(Dense(units=len(one_hot_encoder[0]),activation='softmax'))\n",
        "model.compile(optimizer='adam',loss='categorical_crossentropy',metrics=[\"accuracy\"])\n",
        "model.fit(xtrain ,ytrain , epochs=10 , batch_size=32 , validation_data=(xtest,ytest))\n"
      ],
      "metadata": {
        "colab": {
          "base_uri": "https://localhost:8080/"
        },
        "id": "o_0nGWkMdV-m",
        "outputId": "156b7c86-cada-4670-c029-0a20e4c1b700"
      },
      "execution_count": null,
      "outputs": [
        {
          "output_type": "stream",
          "name": "stdout",
          "text": [
            "Epoch 1/10\n",
            "400/400 [==============================] - 20s 48ms/step - loss: 1.3714 - accuracy: 0.4713 - val_loss: 0.9240 - val_accuracy: 0.6938\n",
            "Epoch 2/10\n",
            "400/400 [==============================] - 23s 59ms/step - loss: 0.3648 - accuracy: 0.8850 - val_loss: 0.5464 - val_accuracy: 0.8216\n",
            "Epoch 3/10\n",
            "400/400 [==============================] - 18s 46ms/step - loss: 0.0589 - accuracy: 0.9852 - val_loss: 0.5439 - val_accuracy: 0.8316\n",
            "Epoch 4/10\n",
            "400/400 [==============================] - 20s 51ms/step - loss: 0.0259 - accuracy: 0.9945 - val_loss: 0.5681 - val_accuracy: 0.8288\n",
            "Epoch 5/10\n",
            "400/400 [==============================] - 22s 54ms/step - loss: 0.0167 - accuracy: 0.9966 - val_loss: 0.6746 - val_accuracy: 0.8159\n",
            "Epoch 6/10\n",
            "400/400 [==============================] - 26s 66ms/step - loss: 0.0147 - accuracy: 0.9972 - val_loss: 0.6553 - val_accuracy: 0.8228\n",
            "Epoch 7/10\n",
            "400/400 [==============================] - 24s 60ms/step - loss: 0.0123 - accuracy: 0.9977 - val_loss: 0.6708 - val_accuracy: 0.8291\n",
            "Epoch 8/10\n",
            "400/400 [==============================] - 20s 50ms/step - loss: 0.0113 - accuracy: 0.9973 - val_loss: 0.7078 - val_accuracy: 0.8234\n",
            "Epoch 9/10\n",
            "400/400 [==============================] - 25s 63ms/step - loss: 0.0085 - accuracy: 0.9980 - val_loss: 0.7517 - val_accuracy: 0.8144\n",
            "Epoch 10/10\n",
            "400/400 [==============================] - 26s 64ms/step - loss: 0.0086 - accuracy: 0.9980 - val_loss: 0.7305 - val_accuracy: 0.8234\n"
          ]
        },
        {
          "output_type": "execute_result",
          "data": {
            "text/plain": [
              "<keras.src.callbacks.History at 0x7ccefc4e1f90>"
            ]
          },
          "metadata": {},
          "execution_count": 65
        }
      ]
    },
    {
      "cell_type": "code",
      "source": [
        "input_text = \"She didn't come  today because she lost her dog  yesterday\"\n",
        "input_sequence= tokenize.texts_to_sequences([input_text])\n",
        "padded_input_sequence =pad_sequences(input_sequence,maxlen=max_length)\n",
        "prediction = model.predict(padded_input_sequence)\n",
        "prediction_label =label_encoder.inverse_transform([np.argmax(prediction[0])])\n",
        "print(prediction_label)"
      ],
      "metadata": {
        "colab": {
          "base_uri": "https://localhost:8080/"
        },
        "id": "gTNI8BKidWAl",
        "outputId": "6951cccf-e652-4967-bea0-45281aef11f9"
      },
      "execution_count": null,
      "outputs": [
        {
          "output_type": "stream",
          "name": "stdout",
          "text": [
            "1/1 [==============================] - 0s 25ms/step\n",
            "['sadness']\n"
          ]
        }
      ]
    },
    {
      "cell_type": "code",
      "source": [
        "text='i feel really special and important'\n",
        "a1=tokenize.texts_to_sequences([text])\n",
        "a2=pad_sequences(a1,maxlen=max_length)\n",
        "pred=model.predict(a2)\n",
        "rw=label_encoder.inverse_transform([np.argmax(pred[0])])\n",
        "print(rw)"
      ],
      "metadata": {
        "colab": {
          "base_uri": "https://localhost:8080/"
        },
        "id": "YNonYl76dWC0",
        "outputId": "201fd7d5-4618-4304-d9e1-62ca8cd6fd42"
      },
      "execution_count": null,
      "outputs": [
        {
          "output_type": "stream",
          "name": "stdout",
          "text": [
            "1/1 [==============================] - 0s 22ms/step\n",
            "['joy']\n"
          ]
        }
      ]
    }
  ]
}