{
  "nbformat": 4,
  "nbformat_minor": 0,
  "metadata": {
    "colab": {
      "provenance": [],
      "authorship_tag": "ABX9TyMgfPAYJ0M2piizhIWq2U8p",
      "include_colab_link": true
    },
    "kernelspec": {
      "name": "python3",
      "display_name": "Python 3"
    },
    "language_info": {
      "name": "python"
    }
  },
  "cells": [
    {
      "cell_type": "markdown",
      "metadata": {
        "id": "view-in-github",
        "colab_type": "text"
      },
      "source": [
        "<a href=\"https://colab.research.google.com/github/Anchayadav/AutoTS/blob/main/Amazone_Alexa_Review_Sentiment_Analysis.ipynb\" target=\"_parent\"><img src=\"https://colab.research.google.com/assets/colab-badge.svg\" alt=\"Open In Colab\"/></a>"
      ]
    },
    {
      "cell_type": "code",
      "execution_count": null,
      "metadata": {
        "colab": {
          "base_uri": "https://localhost:8080/"
        },
        "id": "bTm8-5QD7kO8",
        "outputId": "f80891cf-574e-4ee8-b03a-9f7408f30bdf"
      },
      "outputs": [
        {
          "output_type": "stream",
          "name": "stdout",
          "text": [
            "   rating       date         variation  \\\n",
            "0       5  31-Jul-18  Charcoal Fabric    \n",
            "1       5  31-Jul-18  Charcoal Fabric    \n",
            "2       4  31-Jul-18    Walnut Finish    \n",
            "3       5  31-Jul-18  Charcoal Fabric    \n",
            "4       5  31-Jul-18  Charcoal Fabric    \n",
            "\n",
            "                                    verified_reviews  feedback  \n",
            "0                                      Love my Echo!         1  \n",
            "1                                          Loved it!         1  \n",
            "2  Sometimes while playing a game, you can answer...         1  \n",
            "3  I have had a lot of fun with this thing. My 4 ...         1  \n",
            "4                                              Music         1  \n"
          ]
        },
        {
          "output_type": "stream",
          "name": "stderr",
          "text": [
            "[nltk_data] Downloading package vader_lexicon to /root/nltk_data...\n"
          ]
        }
      ],
      "source": [
        "import pandas as pd\n",
        "import seaborn as sns\n",
        "import nltk\n",
        "nltk.download('vader_lexicon')\n",
        "import matplotlib.pyplot as plt\n",
        "from nltk.sentiment.vader import SentimentIntensityAnalyzer\n",
        "sentiment = SentimentIntensityAnalyzer()\n",
        "\n",
        "data=pd.read_csv(\"amazon_alexa.tsv\",delimiter='\\t')\n",
        "print(data.head())"
      ]
    },
    {
      "cell_type": "code",
      "source": [
        "print(data.describe())\n",
        "print(data.isnull().sum())\n",
        "print(data.columns)"
      ],
      "metadata": {
        "colab": {
          "base_uri": "https://localhost:8080/"
        },
        "id": "JQvUFC3O8SXQ",
        "outputId": "0915e44e-aa0e-4559-cd4a-56d7623aea03"
      },
      "execution_count": null,
      "outputs": [
        {
          "output_type": "stream",
          "name": "stdout",
          "text": [
            "            rating     feedback\n",
            "count  3150.000000  3150.000000\n",
            "mean      4.463175     0.918413\n",
            "std       1.068506     0.273778\n",
            "min       1.000000     0.000000\n",
            "25%       4.000000     1.000000\n",
            "50%       5.000000     1.000000\n",
            "75%       5.000000     1.000000\n",
            "max       5.000000     1.000000\n",
            "rating              0\n",
            "date                0\n",
            "variation           0\n",
            "verified_reviews    0\n",
            "feedback            0\n",
            "dtype: int64\n",
            "Index(['rating', 'date', 'variation', 'verified_reviews', 'feedback'], dtype='object')\n"
          ]
        }
      ]
    },
    {
      "cell_type": "code",
      "source": [
        "ratings=data['rating'].value_counts()\n",
        "number = ratings.index\n",
        "quantity= ratings.values\n",
        "\n",
        "\n",
        "custom_colors = ['skyblue','yellowgreen','tomato','blue','red']\n",
        "plt.figure(figsize=(5,5))\n",
        "plt.pie(quantity,labels=number,colors=custom_colors)\n",
        "central_circle =plt.Circle((0,0),0.5,color='white')\n",
        "fig=plt.gcf()\n",
        "fig.gca().add_artist(central_circle)\n",
        "plt.rc('font',size=12)\n",
        "plt.title('amazon alexa Review',fontsize=20)\n",
        "plt.show()"
      ],
      "metadata": {
        "colab": {
          "base_uri": "https://localhost:8080/",
          "height": 452
        },
        "id": "llNmhfj_8SdM",
        "outputId": "da749ede-adeb-48cc-e4c2-52e0b725de62"
      },
      "execution_count": null,
      "outputs": [
        {
          "output_type": "display_data",
          "data": {
            "text/plain": [
              "<Figure size 500x500 with 1 Axes>"
            ],
            "image/png": "[encoded data removed]"
          },
          "metadata": {}
        }
      ]
    },
    {
      "cell_type": "code",
      "source": [
        "sentiment = SentimentIntensityAnalyzer()\n",
        "data['Positive']=[sentiment.polarity_scores(i)['pos']for i in data['verified_reviews']]\n",
        "data['Negative']=[sentiment.polarity_scores(i)['neg']for i in data['verified_reviews']]\n",
        "data['Neutral']=[sentiment.polarity_scores(i)['neu']for i in data['verified_reviews']]\n",
        "\n",
        "print(data.head())"
      ],
      "metadata": {
        "colab": {
          "base_uri": "https://localhost:8080/"
        },
        "id": "R6B4LiWx8SkR",
        "outputId": "63e66165-5772-47e3-94da-6e79550422a6"
      },
      "execution_count": null,
      "outputs": [
        {
          "output_type": "stream",
          "name": "stdout",
          "text": [
            "   rating       date         variation  \\\n",
            "0       5  31-Jul-18  Charcoal Fabric    \n",
            "1       5  31-Jul-18  Charcoal Fabric    \n",
            "2       4  31-Jul-18    Walnut Finish    \n",
            "3       5  31-Jul-18  Charcoal Fabric    \n",
            "4       5  31-Jul-18  Charcoal Fabric    \n",
            "\n",
            "                                    verified_reviews  feedback  Positive  \\\n",
            "0                                      Love my Echo!         1     0.692   \n",
            "1                                          Loved it!         1     0.807   \n",
            "2  Sometimes while playing a game, you can answer...         1     0.114   \n",
            "3  I have had a lot of fun with this thing. My 4 ...         1     0.383   \n",
            "4                                              Music         1     0.000   \n",
            "\n",
            "   Negative  Neutral  \n",
            "0     0.000    0.308  \n",
            "1     0.000    0.193  \n",
            "2     0.102    0.784  \n",
            "3     0.000    0.617  \n",
            "4     0.000    1.000  \n"
          ]
        }
      ]
    },
    {
      "cell_type": "code",
      "source": [
        "x=sum(data['Positive'])\n",
        "y=sum(data['Negative'])\n",
        "z=sum(data['Neutral'])\n",
        "\n",
        "def sentiment_score(x,y,z):\n",
        "  if (x>y) and (x>z):\n",
        "    print(\"positive\")\n",
        "  elif (y>x) and (y>z):\n",
        "    print(\"Negative\")\n",
        "  else:\n",
        "      print(\"Neutral\")\n",
        "\n",
        "sentiment_score(x,y,z)"
      ],
      "metadata": {
        "colab": {
          "base_uri": "https://localhost:8080/"
        },
        "id": "OXQfD2Id8SnO",
        "outputId": "e03e3fb8-eeb5-4fa4-b294-8c346207e9a2"
      },
      "execution_count": null,
      "outputs": [
        {
          "output_type": "stream",
          "name": "stdout",
          "text": [
            "Neutral\n"
          ]
        }
      ]
    },
    {
      "cell_type": "code",
      "source": [
        "print(\"positive:\",x)\n",
        "print(\"negative:\",y)\n",
        "print(\"Neutral:\",z)"
      ],
      "metadata": {
        "colab": {
          "base_uri": "https://localhost:8080/"
        },
        "id": "P-6C_H-s8Sqc",
        "outputId": "cff9d300-d5cc-4c52-d857-c41f22eedce7"
      },
      "execution_count": null,
      "outputs": [
        {
          "output_type": "stream",
          "name": "stdout",
          "text": [
            "positive: 1035.4579999999983\n",
            "negative: 96.79999999999995\n",
            "Neutral: 1936.740999999996\n"
          ]
        }
      ]
    },
    {
      "cell_type": "code",
      "source": [],
      "metadata": {
        "id": "w-hejuNE8SuB"
      },
      "execution_count": null,
      "outputs": []
    }
  ]
}