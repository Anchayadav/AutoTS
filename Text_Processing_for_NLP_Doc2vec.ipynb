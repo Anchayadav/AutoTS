{
  "nbformat": 4,
  "nbformat_minor": 0,
  "metadata": {
    "colab": {
      "provenance": [],
      "authorship_tag": "ABX9TyPlq5oe2jGjRDwOpPrkfrAq",
      "include_colab_link": true
    },
    "kernelspec": {
      "name": "python3",
      "display_name": "Python 3"
    },
    "language_info": {
      "name": "python"
    }
  },
  "cells": [
    {
      "cell_type": "markdown",
      "metadata": {
        "id": "view-in-github",
        "colab_type": "text"
      },
      "source": [
        "<a href=\"https://colab.research.google.com/github/Anchayadav/AutoTS/blob/main/Text_Processing_for_NLP_Doc2vec.ipynb\" target=\"_parent\"><img src=\"https://colab.research.google.com/assets/colab-badge.svg\" alt=\"Open In Colab\"/></a>"
      ]
    },
    {
      "cell_type": "code",
      "execution_count": null,
      "metadata": {
        "id": "9ih7hwkPLwrh"
      },
      "outputs": [],
      "source": [
        "from gensim.models import Doc2Vec\n",
        "import nltk\n",
        "from gensim.models.doc2vec import TaggedDocument\n",
        "from nltk.tokenize import word_tokenize,sent_tokenize"
      ]
    },
    {
      "cell_type": "code",
      "source": [
        "import nltk\n",
        "nltk.download('punkt')"
      ],
      "metadata": {
        "colab": {
          "base_uri": "https://localhost:8080/"
        },
        "id": "_35xgxVJMKGX",
        "outputId": "3a579b62-c9ef-4943-a3b8-585474d0af2a"
      },
      "execution_count": null,
      "outputs": [
        {
          "output_type": "stream",
          "name": "stderr",
          "text": [
            "[nltk_data] Downloading package punkt to /root/nltk_data...\n",
            "[nltk_data]   Package punkt is already up-to-date!\n"
          ]
        },
        {
          "output_type": "execute_result",
          "data": {
            "text/plain": [
              "True"
            ]
          },
          "metadata": {},
          "execution_count": 13
        }
      ]
    },
    {
      "cell_type": "code",
      "source": [
        "text = 'Doc2Vec is used for creating document embedding .it captuire the context of entire documnet'"
      ],
      "metadata": {
        "id": "_uakJzOvMKJz"
      },
      "execution_count": null,
      "outputs": []
    },
    {
      "cell_type": "code",
      "source": [
        "print(\"tokenized into sentence and words\")\n",
        "sentences =sent_tokenize(text)\n",
        "sentence_word =[word_tokenize(sentence.lower()) for sentence in sentences]\n",
        "print(\"tokenized word  for sentence :\",sentence_word)"
      ],
      "metadata": {
        "colab": {
          "base_uri": "https://localhost:8080/"
        },
        "id": "BaOeooRIMKSR",
        "outputId": "ed947dce-f356-4a1a-fabb-c4beac419cb9"
      },
      "execution_count": null,
      "outputs": [
        {
          "output_type": "stream",
          "name": "stdout",
          "text": [
            "tokenized into sentence and words\n",
            "tokenized word  for sentence : [['doc2vec', 'is', 'used', 'for', 'creating', 'document', 'embedding', '.it', 'captuire', 'the', 'context', 'of', 'entire', 'documnet']]\n"
          ]
        }
      ]
    },
    {
      "cell_type": "code",
      "source": [
        "print(\"prepare tagged document \")\n",
        "tagged_data = [TaggedDocument(words= words,tags=[str(idx)])for idx,words in enumerate(sentence_word)]\n",
        "print(tagged_data)"
      ],
      "metadata": {
        "colab": {
          "base_uri": "https://localhost:8080/"
        },
        "id": "JkAsEBWEMKV1",
        "outputId": "8f2dedef-4bd6-4fdc-cd81-53fbd2d2d5a0"
      },
      "execution_count": null,
      "outputs": [
        {
          "output_type": "stream",
          "name": "stdout",
          "text": [
            "prepare tagged document \n",
            "[TaggedDocument(words=['doc2vec', 'is', 'used', 'for', 'creating', 'document', 'embedding', '.it', 'captuire', 'the', 'context', 'of', 'entire', 'documnet'], tags=['0'])]\n"
          ]
        }
      ]
    },
    {
      "cell_type": "code",
      "source": [
        "print(\"train the Doc2vec model \")\n",
        "model = Doc2Vec(vector_size=100, window=5,min_count=1,dm=1,epochs=20)\n",
        "model.build_vocab(tagged_data)\n",
        "model.train(tagged_data,total_examples=model.corpus_count,epochs=model.epochs)\n",
        "print(\"Doc2vec model trained sucessfully\")\n",
        "print()"
      ],
      "metadata": {
        "colab": {
          "base_uri": "https://localhost:8080/"
        },
        "id": "_DaLK2IxN8Yd",
        "outputId": "094abc82-85d7-4631-8f7a-397d7eb299a2"
      },
      "execution_count": null,
      "outputs": [
        {
          "output_type": "stream",
          "name": "stdout",
          "text": [
            "train the Doc2vec model \n",
            "Doc2vec model trained sucessfully\n",
            "\n"
          ]
        }
      ]
    },
    {
      "cell_type": "code",
      "source": [
        "print(\"infert document cector\")\n",
        "doc_vector=model.infer_vector(word_tokenize(\"Doc2Vec is a powerful tool for document embedding.\"))\n",
        "print(\"infer document vector\",doc_vector)\n",
        "print()"
      ],
      "metadata": {
        "colab": {
          "base_uri": "https://localhost:8080/"
        },
        "id": "YxQMhAmqN8qb",
        "outputId": "136874fa-3d03-4d4d-cabd-3b1add342aa5"
      },
      "execution_count": null,
      "outputs": [
        {
          "output_type": "stream",
          "name": "stdout",
          "text": [
            "infert document cector\n",
            "infer document vector [ 3.4912049e-03  4.8095766e-03  3.5741483e-03  4.8022871e-03\n",
            "  4.6465960e-03 -1.8166914e-03 -7.3024898e-04 -1.5222915e-03\n",
            " -3.2306058e-04  4.8318494e-04  1.7972731e-03 -2.5535107e-03\n",
            "  1.6106353e-03  4.9552037e-03 -4.7252700e-03 -3.2672696e-03\n",
            "  1.0263509e-03 -2.7554603e-03  1.7791562e-03  6.6876772e-04\n",
            "  1.7174666e-03 -2.6978482e-03  2.5023390e-03  1.9525201e-03\n",
            " -8.7587902e-04 -8.5843494e-04 -2.1529279e-03  2.3740346e-03\n",
            "  2.0355631e-03  3.9626108e-03  3.8892215e-03 -4.1617174e-03\n",
            " -4.8898812e-03  1.7030400e-03  2.2547941e-03 -4.1254964e-03\n",
            " -2.2592144e-03 -8.6535688e-04  5.9735717e-04  4.8927818e-03\n",
            "  3.0127477e-03 -4.8371576e-04 -3.1921945e-03  4.1905507e-03\n",
            " -4.9351947e-03  4.3890588e-03  2.3033977e-03 -4.9811359e-05\n",
            " -4.0672990e-03 -2.0942877e-03  2.2372347e-03  4.7809691e-03\n",
            "  3.9672018e-03 -2.4920827e-04  8.3017192e-04  2.0020830e-03\n",
            " -3.8681102e-03 -6.9796405e-04  2.6922761e-03  8.6914137e-05\n",
            " -5.8361748e-04  5.2549562e-04 -4.4346442e-03 -3.7929544e-03\n",
            " -3.8920934e-03 -3.4703661e-03  4.8951078e-03  3.6663816e-03\n",
            "  2.5172606e-03  3.9771213e-03 -1.3527593e-03 -4.4955113e-03\n",
            " -2.3781620e-03  3.6819254e-03  1.0781822e-03  2.6504362e-03\n",
            "  4.6146698e-03  1.1620332e-03 -3.6824640e-04 -2.1948004e-03\n",
            " -1.2745296e-03  1.1528053e-03 -3.1234913e-03 -4.9395990e-03\n",
            "  2.7770917e-03  2.1262635e-03 -2.5417621e-03  2.2756956e-04\n",
            "  1.1514656e-03 -6.2994441e-05  8.3880569e-04 -2.2779503e-03\n",
            " -3.6550595e-03  1.1721272e-03 -2.9756373e-03  8.7083562e-04\n",
            "  1.2111305e-03  3.2987979e-03 -3.1088301e-04  4.9541630e-03]\n",
            "\n"
          ]
        }
      ]
    }
  ]
}