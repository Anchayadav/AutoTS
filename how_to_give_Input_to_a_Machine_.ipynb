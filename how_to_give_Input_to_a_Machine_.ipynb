{
  "nbformat": 4,
  "nbformat_minor": 0,
  "metadata": {
    "colab": {
      "provenance": [],
      "authorship_tag": "ABX9TyMH5X6HhEE1khKUSLXDjlw0",
      "include_colab_link": true
    },
    "kernelspec": {
      "name": "python3",
      "display_name": "Python 3"
    },
    "language_info": {
      "name": "python"
    }
  },
  "cells": [
    {
      "cell_type": "markdown",
      "metadata": {
        "id": "view-in-github",
        "colab_type": "text"
      },
      "source": [
        "<a href=\"https://colab.research.google.com/github/Anchayadav/AutoTS/blob/main/how_to_give_Input_to_a_Machine_.ipynb\" target=\"_parent\"><img src=\"https://colab.research.google.com/assets/colab-badge.svg\" alt=\"Open In Colab\"/></a>"
      ]
    },
    {
      "cell_type": "code",
      "execution_count": null,
      "metadata": {
        "colab": {
          "base_uri": "https://localhost:8080/"
        },
        "id": "K6d7A67VaqIz",
        "outputId": "1412bf54-9a83-4d2a-98de-3d82916e8ee0"
      },
      "outputs": [
        {
          "output_type": "stream",
          "name": "stdout",
          "text": [
            "prediction : ['Iris-setosa']\n"
          ]
        }
      ],
      "source": [
        "import pandas as pd\n",
        "import numpy  as np\n",
        "iris=pd.read_csv('Iris.csv')\n",
        "x=iris.drop('Species', axis=1)\n",
        "y=iris['Species']\n",
        "\n",
        "from sklearn.model_selection import train_test_split\n",
        "x_train,x_test,y_train,y_test =train_test_split(x,y,test_size=0.2,random_state=0)\n",
        "from sklearn.neighbors import KNeighborsClassifier\n",
        "\n",
        "model = KNeighborsClassifier(n_neighbors=1)\n",
        "model.fit(x_train,y_train)\n",
        "\n",
        "features =np.array([[5, 2.9, 1, 0.2]])\n",
        "features =np.array([[4.6,\t3.4,\t1.4,\t0.3]])\n",
        "#prediction = model.predict(features)\n",
        "print(\"prediction : {}\".format(prediction))"
      ]
    }
  ]
}